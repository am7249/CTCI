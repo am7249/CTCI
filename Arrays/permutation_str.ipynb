{
 "cells": [
  {
   "cell_type": "code",
   "execution_count": 14,
   "metadata": {},
   "outputs": [],
   "source": [
    "def str_permute(str_1, str_2):\n",
    "    if len(str_1) != len(str_2):\n",
    "        return False\n",
    "    n = len(str_1)\n",
    "    \n",
    "    string_one, string_two = {}, {}\n",
    "    \n",
    "    for i in range(n):\n",
    "        if str_1[i] not in string_one.keys():\n",
    "            string_one[str_1[i]] = 0\n",
    "        if str_2[i] not in string_two.keys():\n",
    "            string_two[str_2[i]] = 0\n",
    "    \n",
    "    for j in range(n):\n",
    "        if str_1[j] in string_one.keys():\n",
    "            string_one[str_1[j]] += 1\n",
    "        if str_2[j] in string_two.keys():\n",
    "            string_two[str_2[j]] += 1\n",
    "    \n",
    "    return string_one == string_two\n",
    "    "
   ]
  },
  {
   "cell_type": "code",
   "execution_count": 17,
   "metadata": {},
   "outputs": [],
   "source": [
    "#time complexity = O(n)\n",
    "#space complexity = "
   ]
  },
  {
   "cell_type": "code",
   "execution_count": 27,
   "metadata": {},
   "outputs": [],
   "source": [
    "def str_permute2(str_1, str_2):\n",
    "    if len(str_1) != len(str_2):\n",
    "        return False\n",
    "    \n",
    "    n = len(str_1)\n",
    "\n",
    "    str_1 = ''.join(sorted(str_1))\n",
    "    str_2 = ''.join(sorted(str_2))\n",
    "    \n",
    "    return str_1 == str_2\n",
    "    "
   ]
  },
  {
   "cell_type": "code",
   "execution_count": null,
   "metadata": {},
   "outputs": [],
   "source": []
  }
 ],
 "metadata": {
  "kernelspec": {
   "display_name": "Python 3",
   "language": "python",
   "name": "python3"
  },
  "language_info": {
   "codemirror_mode": {
    "name": "ipython",
    "version": 3
   },
   "file_extension": ".py",
   "mimetype": "text/x-python",
   "name": "python",
   "nbconvert_exporter": "python",
   "pygments_lexer": "ipython3",
   "version": "3.7.0"
  }
 },
 "nbformat": 4,
 "nbformat_minor": 2
}
