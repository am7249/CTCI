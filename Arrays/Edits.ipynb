{
 "cells": [
  {
   "cell_type": "code",
   "execution_count": 41,
   "metadata": {},
   "outputs": [],
   "source": [
    "def edit(s1, s2):\n",
    "    if len(s1) == len(s2):\n",
    "        n = len(s1)\n",
    "        count = 0\n",
    "        for i in range(n):\n",
    "            if (s1[i] != s2[i]):\n",
    "                count += 1\n",
    "                if count > 1:\n",
    "                    return False\n",
    "        if count <= 1:\n",
    "            return True\n",
    "    elif abs(len(s1) - len(s2)) == 1:\n",
    "        if len(s1) > len(s2):\n",
    "            pr_str = s1\n",
    "            se_str = s2\n",
    "        else:\n",
    "            pr_str = s2\n",
    "            se_str = s1\n",
    "        ind_1 = 0\n",
    "        ind_2 = 0\n",
    "        \n",
    "        while ((ind_2 < len(pr_str)) and (ind_1 < len(se_str))):\n",
    "            if se_str[ind_1] != pr_str[ind_2]:\n",
    "                if ind_1 != ind_2:\n",
    "                    return False\n",
    "                ind_2 += 1\n",
    "            else:\n",
    "                ind_1 += 1\n",
    "                ind_2 += 1\n",
    "        return True\n",
    "                \n",
    "                \n",
    "    \n",
    "        "
   ]
  },
  {
   "cell_type": "code",
   "execution_count": 42,
   "metadata": {},
   "outputs": [
    {
     "data": {
      "text/plain": [
       "True"
      ]
     },
     "execution_count": 42,
     "metadata": {},
     "output_type": "execute_result"
    }
   ],
   "source": [
    "edit('pale', 'ale')"
   ]
  },
  {
   "cell_type": "code",
   "execution_count": null,
   "metadata": {},
   "outputs": [],
   "source": []
  }
 ],
 "metadata": {
  "kernelspec": {
   "display_name": "Python 3",
   "language": "python",
   "name": "python3"
  },
  "language_info": {
   "codemirror_mode": {
    "name": "ipython",
    "version": 3
   },
   "file_extension": ".py",
   "mimetype": "text/x-python",
   "name": "python",
   "nbconvert_exporter": "python",
   "pygments_lexer": "ipython3",
   "version": "3.7.0"
  }
 },
 "nbformat": 4,
 "nbformat_minor": 2
}
