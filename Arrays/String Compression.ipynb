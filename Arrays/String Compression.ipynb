{
 "cells": [
  {
   "cell_type": "code",
   "execution_count": 21,
   "metadata": {},
   "outputs": [],
   "source": [
    "def string_compression_all(string):\n",
    "    if len(string) == len(set(string)):\n",
    "        return string\n",
    "    else:\n",
    "        char = {}\n",
    "        n = len(string)\n",
    "        \n",
    "        for i in range(n):\n",
    "            if string[i] not in char.keys():\n",
    "                char[string[i]] = 0\n",
    "        for i in range(n):\n",
    "            if string[i] in char.keys():\n",
    "                char[string[i]] += 1\n",
    "        s = ''\n",
    "        for i in char:\n",
    "            s += i + str(char[i])\n",
    "        \n",
    "        return s"
   ]
  },
  {
   "cell_type": "code",
   "execution_count": 23,
   "metadata": {},
   "outputs": [
    {
     "data": {
      "text/plain": [
       "'a4b1c1d5f4'"
      ]
     },
     "execution_count": 23,
     "metadata": {},
     "output_type": "execute_result"
    }
   ],
   "source": [
    "string_compression_all('abcddddffffaaad')"
   ]
  },
  {
   "cell_type": "code",
   "execution_count": 24,
   "metadata": {},
   "outputs": [],
   "source": [
    "def string_compression_block(string):\n",
    "    if len(string) == len(set(string)):\n",
    "        return string\n",
    "    else:\n",
    "        n = len(string)\n",
    "        count = 0\n",
    "        pair = []\n",
    "        for i in range(n):\n",
    "            count += 1\n",
    "            if ((i + 1 >= n) or (string[i] != string[i+1])):\n",
    "                pair.append(string[i])\n",
    "                pair.append(str(count))\n",
    "                count = 0\n",
    "        ans = ''.join([pair[i] for i in range(len(pair))])\n",
    "        return ans"
   ]
  },
  {
   "cell_type": "code",
   "execution_count": 25,
   "metadata": {},
   "outputs": [
    {
     "data": {
      "text/plain": [
       "'a2b2c1d4a3'"
      ]
     },
     "execution_count": 25,
     "metadata": {},
     "output_type": "execute_result"
    }
   ],
   "source": [
    "string_compression_block('aabbcddddaaa')"
   ]
  },
  {
   "cell_type": "code",
   "execution_count": null,
   "metadata": {},
   "outputs": [],
   "source": []
  }
 ],
 "metadata": {
  "kernelspec": {
   "display_name": "Python 3",
   "language": "python",
   "name": "python3"
  },
  "language_info": {
   "codemirror_mode": {
    "name": "ipython",
    "version": 3
   },
   "file_extension": ".py",
   "mimetype": "text/x-python",
   "name": "python",
   "nbconvert_exporter": "python",
   "pygments_lexer": "ipython3",
   "version": "3.7.0"
  }
 },
 "nbformat": 4,
 "nbformat_minor": 2
}
