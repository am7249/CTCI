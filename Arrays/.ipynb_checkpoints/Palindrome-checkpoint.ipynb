{
 "cells": [
  {
   "cell_type": "code",
   "execution_count": 39,
   "metadata": {},
   "outputs": [],
   "source": [
    "def palindrome(string):\n",
    "    _str = string.replace(\" \",\"\")\n",
    "    n = len(_str)\n",
    "    if n % 2 == 0:\n",
    "        count_str = {}\n",
    "        for i in range(n):\n",
    "            if _str[i] not in count_str.keys():\n",
    "                count_str[_str[i]] = 0\n",
    "        for i in range(n):\n",
    "            if _str[i] in count_str.keys():\n",
    "                count_str[_str[i]] += 1\n",
    "        return len(set(count_str.values())) == 1\n",
    "    else:\n",
    "        count_str = {}\n",
    "        for i in range(n):\n",
    "            if _str[i] not in count_str.keys():\n",
    "                count_str[_str[i]] = 0\n",
    "        for i in range(n):\n",
    "            if _str[i] in count_str.keys():\n",
    "                count_str[_str[i]] += 1\n",
    "        return (len(set(count_str.values()))) == 2 and (list(count_str.values()).count(1) == 1)"
   ]
  },
  {
   "cell_type": "code",
   "execution_count": 40,
   "metadata": {},
   "outputs": [
    {
     "data": {
      "text/plain": [
       "True"
      ]
     },
     "execution_count": 40,
     "metadata": {},
     "output_type": "execute_result"
    }
   ],
   "source": [
    "palindrome('tact coa')"
   ]
  }
 ],
 "metadata": {
  "kernelspec": {
   "display_name": "Python 3",
   "language": "python",
   "name": "python3"
  },
  "language_info": {
   "codemirror_mode": {
    "name": "ipython",
    "version": 3
   },
   "file_extension": ".py",
   "mimetype": "text/x-python",
   "name": "python",
   "nbconvert_exporter": "python",
   "pygments_lexer": "ipython3",
   "version": "3.7.0"
  }
 },
 "nbformat": 4,
 "nbformat_minor": 2
}
